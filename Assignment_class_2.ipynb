{
 "cells": [
  {
   "cell_type": "markdown",
   "id": "4dad0355-34ff-42b4-988b-152122b0de0b",
   "metadata": {},
   "source": [
    "Variables-----"
   ]
  },
  {
   "cell_type": "code",
   "execution_count": 6,
   "id": "76fd4323-1ee9-40e9-9a47-e9a4c30ff0ef",
   "metadata": {},
   "outputs": [
    {
     "name": "stdout",
     "output_type": "stream",
     "text": [
      "Before swap:  a= 5 b= 10\n",
      "After swap:  a= 10 b= 5\n"
     ]
    }
   ],
   "source": [
    "#1\n",
    "a=5\n",
    "b=10\n",
    "print(\"Before swap: \", \"a=\",a, \"b=\",b)\n",
    "a,b = b,a\n",
    "print(\"After swap: \", \"a=\",a, \"b=\",b)"
   ]
  },
  {
   "cell_type": "code",
   "execution_count": 10,
   "id": "d02307b3-db15-4ef6-89d7-fca33f1ec8e8",
   "metadata": {},
   "outputs": [
    {
     "name": "stdin",
     "output_type": "stream",
     "text": [
      "5 20\n",
      "10 30\n"
     ]
    },
    {
     "name": "stdout",
     "output_type": "stream",
     "text": [
      "area:  600.0\n"
     ]
    }
   ],
   "source": [
    "#2\n",
    "def calculate_rectangle_area(length, width):\n",
    "    return length * width\n",
    "area = calculate_rectangle_area(length, width)\n",
    "print(\"area: \", area)"
   ]
  },
  {
   "cell_type": "code",
   "execution_count": 16,
   "id": "7ebee710-caaa-47a8-8f9d-15876398359f",
   "metadata": {},
   "outputs": [
    {
     "name": "stdin",
     "output_type": "stream",
     "text": [
      "Enter the temperature in Fahrenheit:  100\n"
     ]
    },
    {
     "name": "stdout",
     "output_type": "stream",
     "text": [
      "The temperature in Celsius is:  37.78\n"
     ]
    }
   ],
   "source": [
    "#3\n",
    "def fahrenheit_to_celsius(fahrenheit):\n",
    "    return (fahrenheit - 32) * 5.0 / 9.0\n",
    "fahrenheit_ = float(input(\"Enter the temperature in Fahrenheit: \"))\n",
    "celsius = fahrenheit_to_celsius(fahrenheit_)\n",
    "print(\"The temperature in Celsius is: \", round(celsius, 2))\n",
    "\n",
    "    "
   ]
  },
  {
   "cell_type": "code",
   "execution_count": 20,
   "id": "c34b390d-2c12-4bfd-8292-08cc96a3c99f",
   "metadata": {},
   "outputs": [
    {
     "name": "stdout",
     "output_type": "stream",
     "text": [
      "The volume of the sphere is: 1767.14\n"
     ]
    }
   ],
   "source": [
    "#4\n",
    "radius_ = 7.5\n",
    "def sphere_volume(radius):\n",
    "    return (4 / 3) * 3.14159 * (radius ** 3)\n",
    "volume = sphere_volume(radius_)\n",
    "print(\"The volume of the sphere is:\", round(volume, 2))"
   ]
  },
  {
   "cell_type": "code",
   "execution_count": 24,
   "id": "cf90db68-d9a5-4ba7-a1b9-69c83145ee17",
   "metadata": {},
   "outputs": [
    {
     "name": "stdin",
     "output_type": "stream",
     "text": [
      "first number:  3\n",
      "second number:  9\n",
      "third number:  18\n"
     ]
    },
    {
     "name": "stdout",
     "output_type": "stream",
     "text": [
      "The average of the three numbers is:  10.0\n"
     ]
    }
   ],
   "source": [
    "#5\n",
    "def calculate_average(num1, num2, num3):\n",
    "    return (num1 + num2 + num3) / 3\n",
    "def result():\n",
    "    num1 = int(input(\"first number: \"))\n",
    "    num2 = int(input(\"second number: \"))\n",
    "    num3 = int(input(\"third number: \"))\n",
    "    \n",
    "    average = calculate_average(num1, num2, num3)\n",
    "    print(\"The average of the three numbers is: \", round(average, 2))\n",
    "result()\n",
    "    "
   ]
  },
  {
   "cell_type": "markdown",
   "id": "04b991cf-7d93-4eff-b230-17940da0e750",
   "metadata": {},
   "source": [
    "If-elif-else------"
   ]
  },
  {
   "cell_type": "code",
   "execution_count": 28,
   "id": "b6b36e0f-c2fb-4d67-8079-b6fb577e48d6",
   "metadata": {},
   "outputs": [
    {
     "name": "stdin",
     "output_type": "stream",
     "text": [
      "Enter a number:  7\n"
     ]
    },
    {
     "name": "stdout",
     "output_type": "stream",
     "text": [
      "The number is odd.\n"
     ]
    }
   ],
   "source": [
    "#6\n",
    "number = int(input(\"Enter a number: \"))\n",
    "\n",
    "if number % 2 == 0:\n",
    "    print(\"The number is even.\")\n",
    "else:\n",
    "    print(\"The number is odd.\")\n"
   ]
  },
  {
   "cell_type": "code",
   "execution_count": 36,
   "id": "af74cedd-3c56-41de-a1bf-2390588e19ac",
   "metadata": {},
   "outputs": [
    {
     "name": "stdin",
     "output_type": "stream",
     "text": [
      "first number:  9\n",
      "second number:  10\n",
      "third number:  2\n"
     ]
    },
    {
     "name": "stdout",
     "output_type": "stream",
     "text": [
      "The maximum of the three numbers is: 10\n"
     ]
    }
   ],
   "source": [
    "#7\n",
    "def result():\n",
    "    num1 = int(input(\"first number: \"))\n",
    "    num2 = int(input(\"second number: \"))\n",
    "    num3 = int(input(\"third number: \"))\n",
    "\n",
    "    if num1 >= num2 and num1 >= num3:\n",
    "        maximum = num1\n",
    "    elif num2 >= num1 and num2 >= num3:\n",
    "        maximum = num2\n",
    "    else:\n",
    "        maximum = num3\n",
    "    print(\"The maximum of the three numbers is:\", maximum)\n",
    "    \n",
    "result()\n",
    "\n"
   ]
  },
  {
   "cell_type": "code",
   "execution_count": 38,
   "id": "ede43ff3-7af9-4551-aa95-855f3b44a16b",
   "metadata": {},
   "outputs": [
    {
     "name": "stdin",
     "output_type": "stream",
     "text": [
      "Enter a year:  2024\n"
     ]
    },
    {
     "name": "stdout",
     "output_type": "stream",
     "text": [
      "2024 is a leap year.\n"
     ]
    }
   ],
   "source": [
    "#8\n",
    "year = int(input(\"Enter a year: \"))\n",
    "if (year % 4 == 0 and year % 100 != 0) or (year % 400 == 0):\n",
    "    print(f\"{year} is a leap year.\")\n",
    "else:\n",
    "    print(f\"{year} is not a leap year.\")\n"
   ]
  },
  {
   "cell_type": "code",
   "execution_count": 48,
   "id": "fae7b596-3c50-4e04-9bf5-f1107b2763ef",
   "metadata": {
    "scrolled": true
   },
   "outputs": [
    {
     "name": "stdin",
     "output_type": "stream",
     "text": [
      "Enter a number:  -10\n"
     ]
    },
    {
     "name": "stdout",
     "output_type": "stream",
     "text": [
      "The number is negative.\n"
     ]
    }
   ],
   "source": [
    "#9\n",
    "number = int(input(\"Enter a number: \"))\n",
    "\n",
    "if number > 0:\n",
    "    print(\"The number is positive.\")\n",
    "elif number < 0:\n",
    "    print(\"The number is negative.\")\n",
    "else:\n",
    "    print(\"The number is zero.\")\n"
   ]
  },
  {
   "cell_type": "code",
   "execution_count": null,
   "id": "5a0bfe4d-5084-4fcb-b3ae-6d4ff6649b74",
   "metadata": {},
   "outputs": [],
   "source": [
    "#10\n"
   ]
  }
 ],
 "metadata": {
  "kernelspec": {
   "display_name": "Python 3 (ipykernel)",
   "language": "python",
   "name": "python3"
  },
  "language_info": {
   "codemirror_mode": {
    "name": "ipython",
    "version": 3
   },
   "file_extension": ".py",
   "mimetype": "text/x-python",
   "name": "python",
   "nbconvert_exporter": "python",
   "pygments_lexer": "ipython3",
   "version": "3.12.4"
  }
 },
 "nbformat": 4,
 "nbformat_minor": 5
}
