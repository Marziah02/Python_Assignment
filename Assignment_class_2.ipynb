{
 "cells": [
  {
   "cell_type": "markdown",
   "id": "4dad0355-34ff-42b4-988b-152122b0de0b",
   "metadata": {},
   "source": [
    "Variables-----"
   ]
  },
  {
   "cell_type": "code",
   "execution_count": 6,
   "id": "76fd4323-1ee9-40e9-9a47-e9a4c30ff0ef",
   "metadata": {},
   "outputs": [
    {
     "name": "stdout",
     "output_type": "stream",
     "text": [
      "Before swap:  a= 5 b= 10\n",
      "After swap:  a= 10 b= 5\n"
     ]
    }
   ],
   "source": [
    "#1\n",
    "a=5\n",
    "b=10\n",
    "print(\"Before swap: \", \"a=\",a, \"b=\",b)\n",
    "a,b = b,a\n",
    "print(\"After swap: \", \"a=\",a, \"b=\",b)"
   ]
  },
  {
   "cell_type": "code",
   "execution_count": 10,
   "id": "d02307b3-db15-4ef6-89d7-fca33f1ec8e8",
   "metadata": {},
   "outputs": [
    {
     "name": "stdin",
     "output_type": "stream",
     "text": [
      "5 20\n",
      "10 30\n"
     ]
    },
    {
     "name": "stdout",
     "output_type": "stream",
     "text": [
      "area:  600.0\n"
     ]
    }
   ],
   "source": [
    "#2\n",
    "def calculate_rectangle_area(length, width):\n",
    "    return length * width\n",
    "area = calculate_rectangle_area(length, width)\n",
    "print(\"area: \", area)"
   ]
  },
  {
   "cell_type": "code",
   "execution_count": 16,
   "id": "7ebee710-caaa-47a8-8f9d-15876398359f",
   "metadata": {},
   "outputs": [
    {
     "name": "stdin",
     "output_type": "stream",
     "text": [
      "Enter the temperature in Fahrenheit:  100\n"
     ]
    },
    {
     "name": "stdout",
     "output_type": "stream",
     "text": [
      "The temperature in Celsius is:  37.78\n"
     ]
    }
   ],
   "source": [
    "#3\n",
    "def fahrenheit_to_celsius(fahrenheit):\n",
    "    return (fahrenheit - 32) * 5.0 / 9.0\n",
    "fahrenheit_ = float(input(\"Enter the temperature in Fahrenheit: \"))\n",
    "celsius = fahrenheit_to_celsius(fahrenheit_)\n",
    "print(\"The temperature in Celsius is: \", round(celsius, 2))\n",
    "\n",
    "    "
   ]
  },
  {
   "cell_type": "code",
   "execution_count": 20,
   "id": "c34b390d-2c12-4bfd-8292-08cc96a3c99f",
   "metadata": {},
   "outputs": [
    {
     "name": "stdout",
     "output_type": "stream",
     "text": [
      "The volume of the sphere is: 1767.14\n"
     ]
    }
   ],
   "source": [
    "#4\n",
    "radius_ = 7.5\n",
    "def sphere_volume(radius):\n",
    "    return (4 / 3) * 3.14159 * (radius ** 3)\n",
    "volume = sphere_volume(radius_)\n",
    "print(\"The volume of the sphere is:\", round(volume, 2))"
   ]
  },
  {
   "cell_type": "code",
   "execution_count": 24,
   "id": "cf90db68-d9a5-4ba7-a1b9-69c83145ee17",
   "metadata": {},
   "outputs": [
    {
     "name": "stdin",
     "output_type": "stream",
     "text": [
      "first number:  3\n",
      "second number:  9\n",
      "third number:  18\n"
     ]
    },
    {
     "name": "stdout",
     "output_type": "stream",
     "text": [
      "The average of the three numbers is:  10.0\n"
     ]
    }
   ],
   "source": [
    "#5\n",
    "def calculate_average(num1, num2, num3):\n",
    "    return (num1 + num2 + num3) / 3\n",
    "def result():\n",
    "    num1 = int(input(\"first number: \"))\n",
    "    num2 = int(input(\"second number: \"))\n",
    "    num3 = int(input(\"third number: \"))\n",
    "    \n",
    "    average = calculate_average(num1, num2, num3)\n",
    "    print(\"The average of the three numbers is: \", round(average, 2))\n",
    "result()\n",
    "    "
   ]
  },
  {
   "cell_type": "markdown",
   "id": "04b991cf-7d93-4eff-b230-17940da0e750",
   "metadata": {},
   "source": [
    "If-elif-else------"
   ]
  },
  {
   "cell_type": "code",
   "execution_count": 28,
   "id": "b6b36e0f-c2fb-4d67-8079-b6fb577e48d6",
   "metadata": {},
   "outputs": [
    {
     "name": "stdin",
     "output_type": "stream",
     "text": [
      "Enter a number:  7\n"
     ]
    },
    {
     "name": "stdout",
     "output_type": "stream",
     "text": [
      "The number is odd.\n"
     ]
    }
   ],
   "source": [
    "#6\n",
    "number = int(input(\"Enter a number: \"))\n",
    "\n",
    "if number % 2 == 0:\n",
    "    print(\"The number is even.\")\n",
    "else:\n",
    "    print(\"The number is odd.\")\n"
   ]
  },
  {
   "cell_type": "code",
   "execution_count": 36,
   "id": "af74cedd-3c56-41de-a1bf-2390588e19ac",
   "metadata": {},
   "outputs": [
    {
     "name": "stdin",
     "output_type": "stream",
     "text": [
      "first number:  9\n",
      "second number:  10\n",
      "third number:  2\n"
     ]
    },
    {
     "name": "stdout",
     "output_type": "stream",
     "text": [
      "The maximum of the three numbers is: 10\n"
     ]
    }
   ],
   "source": [
    "#7\n",
    "def result():\n",
    "    num1 = int(input(\"first number: \"))\n",
    "    num2 = int(input(\"second number: \"))\n",
    "    num3 = int(input(\"third number: \"))\n",
    "\n",
    "    if num1 >= num2 and num1 >= num3:\n",
    "        maximum = num1\n",
    "    elif num2 >= num1 and num2 >= num3:\n",
    "        maximum = num2\n",
    "    else:\n",
    "        maximum = num3\n",
    "    print(\"The maximum of the three numbers is:\", maximum)\n",
    "    \n",
    "result()\n",
    "\n"
   ]
  },
  {
   "cell_type": "code",
   "execution_count": 38,
   "id": "ede43ff3-7af9-4551-aa95-855f3b44a16b",
   "metadata": {},
   "outputs": [
    {
     "name": "stdin",
     "output_type": "stream",
     "text": [
      "Enter a year:  2024\n"
     ]
    },
    {
     "name": "stdout",
     "output_type": "stream",
     "text": [
      "2024 is a leap year.\n"
     ]
    }
   ],
   "source": [
    "#8\n",
    "year = int(input(\"Enter a year: \"))\n",
    "if (year % 4 == 0 and year % 100 != 0) or (year % 400 == 0):\n",
    "    print(f\"{year} is a leap year.\")\n",
    "else:\n",
    "    print(f\"{year} is not a leap year.\")\n"
   ]
  },
  {
   "cell_type": "code",
   "execution_count": 48,
   "id": "fae7b596-3c50-4e04-9bf5-f1107b2763ef",
   "metadata": {
    "scrolled": true
   },
   "outputs": [
    {
     "name": "stdin",
     "output_type": "stream",
     "text": [
      "Enter a number:  -10\n"
     ]
    },
    {
     "name": "stdout",
     "output_type": "stream",
     "text": [
      "The number is negative.\n"
     ]
    }
   ],
   "source": [
    "#9\n",
    "number = int(input(\"Enter a number: \"))\n",
    "\n",
    "if number > 0:\n",
    "    print(\"The number is positive.\")\n",
    "elif number < 0:\n",
    "    print(\"The number is negative.\")\n",
    "else:\n",
    "    print(\"The number is zero.\")\n"
   ]
  },
  {
   "cell_type": "code",
   "execution_count": 54,
   "id": "5a0bfe4d-5084-4fcb-b3ae-6d4ff6649b74",
   "metadata": {},
   "outputs": [
    {
     "name": "stdin",
     "output_type": "stream",
     "text": [
      "Enter the percentage:  76\n"
     ]
    },
    {
     "name": "stdout",
     "output_type": "stream",
     "text": [
      "The grade for a percentage of 76.00% is: C\n"
     ]
    }
   ],
   "source": [
    "#10\n",
    "def calculate_grade(percentage):\n",
    "    if percentage >= 90:\n",
    "        return \"A\"\n",
    "    elif percentage >= 80:\n",
    "        return \"B\"\n",
    "    elif percentage >= 70:\n",
    "        return \"C\"\n",
    "    elif percentage >= 60:\n",
    "        return \"D\"\n",
    "    else:\n",
    "        return \"F\"\n",
    "\n",
    "def result():\n",
    "    percentage = float(input(\"Enter the percentage: \"))\n",
    "    grade = calculate_grade(percentage)\n",
    "    \n",
    "    print(f\"The grade for a percentage of {percentage:.2f}% is: {grade}\")\n",
    "\n",
    "result()\n"
   ]
  },
  {
   "cell_type": "markdown",
   "id": "041f31fa-d1db-45ff-8f71-1a325bf21546",
   "metadata": {},
   "source": [
    "For Loop-------------"
   ]
  },
  {
   "cell_type": "code",
   "execution_count": 62,
   "id": "22e8a960-2b80-46a1-8a83-3f402e2b07ec",
   "metadata": {},
   "outputs": [
    {
     "name": "stdin",
     "output_type": "stream",
     "text": [
      "Enter a number:  5\n"
     ]
    },
    {
     "name": "stdout",
     "output_type": "stream",
     "text": [
      "1\n",
      "2\n",
      "3\n",
      "4\n",
      "5\n"
     ]
    }
   ],
   "source": [
    "# 11\n",
    "def result():\n",
    "    n = int(input(\"Enter a number: \"))\n",
    "    \n",
    "    for i in range(1, n + 1):\n",
    "        print(i)\n",
    "result()\n"
   ]
  },
  {
   "cell_type": "code",
   "execution_count": 70,
   "id": "9c64cc92-abd5-4ce8-bedb-a589ed75e392",
   "metadata": {},
   "outputs": [
    {
     "name": "stdin",
     "output_type": "stream",
     "text": [
      "Enter a number:  5\n"
     ]
    },
    {
     "name": "stdout",
     "output_type": "stream",
     "text": [
      "The factorial of 5 is: 120\n"
     ]
    }
   ],
   "source": [
    "#12\n",
    "n = int(input(\"Enter a number: \"))\n",
    "\n",
    "result = 1\n",
    "for i in range(1, n + 1):\n",
    "    result *= i\n",
    "\n",
    "print(f\"The factorial of {n} is: {result}\")\n",
    "\n"
   ]
  },
  {
   "cell_type": "code",
   "execution_count": 76,
   "id": "fce528d0-1045-4ca4-ab59-46686cb30461",
   "metadata": {},
   "outputs": [
    {
     "name": "stdin",
     "output_type": "stream",
     "text": [
      "Enter the length of the Fibonacci sequence:  5\n"
     ]
    },
    {
     "name": "stdout",
     "output_type": "stream",
     "text": [
      "The Fibonacci sequence of length 5 is: [0, 1, 1, 2, 3]\n"
     ]
    }
   ],
   "source": [
    "#13\n",
    "def result():\n",
    "    n = int(input(\"Enter the length of the Fibonacci sequence: \"))\n",
    "\n",
    "    if n <= 0:\n",
    "        print(\"Please enter a positive integer.\")\n",
    "    elif n == 1:\n",
    "        print(\"The Fibonacci sequence of length 1 is: [0]\")\n",
    "    else:\n",
    "        a, b = 0, 1\n",
    "        sequence = [a]\n",
    "\n",
    "        for _ in range(1, n):\n",
    "            sequence.append(b)\n",
    "            a, b = b, a + b\n",
    "\n",
    "        print(f\"The Fibonacci sequence of length {n} is: {sequence}\")\n",
    "\n",
    "result()\n"
   ]
  },
  {
   "cell_type": "code",
   "execution_count": 94,
   "id": "7eb7f799-d3af-4a4a-8974-5e9983cab1b8",
   "metadata": {},
   "outputs": [
    {
     "name": "stdin",
     "output_type": "stream",
     "text": [
      "Enter a number:  17\n"
     ]
    },
    {
     "name": "stdout",
     "output_type": "stream",
     "text": [
      "17 is a prime number.\n"
     ]
    }
   ],
   "source": [
    "#14\n",
    "def is_prime(number):\n",
    "    if number <= 1:\n",
    "        return False\n",
    "    for i in range(2, int(number**0.5) + 1):\n",
    "        if number % i == 0:\n",
    "            return False\n",
    "    return True\n",
    "    \n",
    "def result():\n",
    "    number = int(input(\"Enter a number: \"))\n",
    "    if is_prime(number):\n",
    "        print(f\"{number} is a prime number.\")\n",
    "    else:\n",
    "        print(f\"{number} is not a prime number.\")\n",
    "result()\n"
   ]
  },
  {
   "cell_type": "code",
   "execution_count": 98,
   "id": "72dcc76c-e18b-44f3-8dce-7e9482225d12",
   "metadata": {},
   "outputs": [
    {
     "name": "stdin",
     "output_type": "stream",
     "text": [
      "Enter a number:  9\n"
     ]
    },
    {
     "name": "stdout",
     "output_type": "stream",
     "text": [
      "Multiplication table for 9:\n",
      "9 x 1 = 9\n",
      "9 x 2 = 18\n",
      "9 x 3 = 27\n",
      "9 x 4 = 36\n",
      "9 x 5 = 45\n",
      "9 x 6 = 54\n",
      "9 x 7 = 63\n",
      "9 x 8 = 72\n",
      "9 x 9 = 81\n",
      "9 x 10 = 90\n"
     ]
    }
   ],
   "source": [
    "#15\n",
    "def result():\n",
    "    number = int(input(\"Enter a number: \"))\n",
    "    \n",
    "    print(f\"Multiplication table for {number}:\")\n",
    "    for i in range(1, 11):\n",
    "        print(f\"{number} x {i} = {number * i}\")\n",
    "result()\n"
   ]
  },
  {
   "cell_type": "markdown",
   "id": "0c8699bc-1af9-4723-9b72-1299a585fa5d",
   "metadata": {},
   "source": [
    "While Loop-------"
   ]
  },
  {
   "cell_type": "code",
   "execution_count": 108,
   "id": "50a83630-0bf1-497c-bd42-19a23e0143ff",
   "metadata": {},
   "outputs": [
    {
     "name": "stdin",
     "output_type": "stream",
     "text": [
      "Enter a number:  6\n"
     ]
    },
    {
     "name": "stdout",
     "output_type": "stream",
     "text": [
      "The sum of all even numbers between 1 and 6 is: 12\n"
     ]
    }
   ],
   "source": [
    "#16\n",
    "def result():\n",
    "    n = int(input(\"Enter a number: \"))\n",
    "    total_sum = 0\n",
    "    start_num = 2\n",
    "    \n",
    "    while start_num <= n:\n",
    "        total_sum += start_num\n",
    "        start_num += 2\n",
    "\n",
    "    print(f\"The sum of all even numbers between 1 and {n} is: {total_sum}\")\n",
    "result()\n"
   ]
  },
  {
   "cell_type": "code",
   "execution_count": 124,
   "id": "8ab08163-dfd9-4b74-a264-33b8fd1cac84",
   "metadata": {},
   "outputs": [
    {
     "name": "stdin",
     "output_type": "stream",
     "text": [
      "Enter a number:  -098\n"
     ]
    },
    {
     "name": "stdout",
     "output_type": "stream",
     "text": [
      "The reversed number is: -89\n"
     ]
    }
   ],
   "source": [
    "#17\n",
    "def reverse_number(number):\n",
    "    reversed_number = 0\n",
    "    original_number = abs(number)\n",
    "    \n",
    "    while original_number > 0:\n",
    "        last_digit = original_number % 10\n",
    "        reversed_number = reversed_number * 10 + last_digit\n",
    "        original_number = original_number // 10\n",
    "    \n",
    "    if number < 0:\n",
    "        reversed_number = -reversed_number\n",
    "    \n",
    "    return reversed_number\n",
    "def result():\n",
    "    number = int(input(\"Enter a number: \"))\n",
    "    reversed_num = reverse_number(number)\n",
    "    print(f\"The reversed number is: {reversed_num}\")\n",
    "\n",
    "result()\n"
   ]
  },
  {
   "cell_type": "code",
   "execution_count": 148,
   "id": "04ffcaa4-c9ad-4ff7-ab25-69072c17f79d",
   "metadata": {},
   "outputs": [
    {
     "name": "stdin",
     "output_type": "stream",
     "text": [
      "Enter a string:  Madam\n"
     ]
    },
    {
     "name": "stdout",
     "output_type": "stream",
     "text": [
      "\"Madam\" is a palindrome.\n"
     ]
    }
   ],
   "source": [
    "#18\n",
    "def is_palindrome(s):\n",
    "    left = 0\n",
    "    right = len(s) - 1\n",
    "    while left < right:\n",
    "        if s[left] != s[right]:\n",
    "            return False\n",
    "        left += 1\n",
    "        right -= 1\n",
    "    \n",
    "    return True\n",
    "\n",
    "def result():\n",
    "    user_string = input(\"Enter a string: \")\n",
    "\n",
    "    if is_palindrome(user_string.lower()):\n",
    "        print(f'\"{user_string}\" is a palindrome.')\n",
    "    else:\n",
    "        print(f'\"{user_string.lower()}\" is not a palindrome.')\n",
    "result()\n"
   ]
  },
  {
   "cell_type": "code",
   "execution_count": 152,
   "id": "c0233eb1-b34f-47ab-bbe0-4f2d42dbfe66",
   "metadata": {},
   "outputs": [
    {
     "name": "stdout",
     "output_type": "stream",
     "text": [
      "Guess the number between 1 and 100.\n"
     ]
    },
    {
     "name": "stdin",
     "output_type": "stream",
     "text": [
      "Enter your guess:  50\n"
     ]
    },
    {
     "name": "stdout",
     "output_type": "stream",
     "text": [
      "Too high. Try again.\n"
     ]
    },
    {
     "name": "stdin",
     "output_type": "stream",
     "text": [
      "Enter your guess:  40\n"
     ]
    },
    {
     "name": "stdout",
     "output_type": "stream",
     "text": [
      "Too high. Try again.\n"
     ]
    },
    {
     "name": "stdin",
     "output_type": "stream",
     "text": [
      "Enter your guess:  20\n"
     ]
    },
    {
     "name": "stdout",
     "output_type": "stream",
     "text": [
      "Too high. Try again.\n"
     ]
    },
    {
     "name": "stdin",
     "output_type": "stream",
     "text": [
      "Enter your guess:  10\n"
     ]
    },
    {
     "name": "stdout",
     "output_type": "stream",
     "text": [
      "Too low. Try again.\n"
     ]
    },
    {
     "name": "stdin",
     "output_type": "stream",
     "text": [
      "Enter your guess:  15\n"
     ]
    },
    {
     "name": "stdout",
     "output_type": "stream",
     "text": [
      "Too low. Try again.\n"
     ]
    },
    {
     "name": "stdin",
     "output_type": "stream",
     "text": [
      "Enter your guess:  18\n"
     ]
    },
    {
     "name": "stdout",
     "output_type": "stream",
     "text": [
      "Congratulations! You guessed the number 18 in 6 attempts.\n"
     ]
    }
   ],
   "source": [
    "#19\n",
    "import random\n",
    "\n",
    "def result():\n",
    "    target_number = random.randint(1, 100)\n",
    "    guess = None\n",
    "    attempts = 0\n",
    "\n",
    "    print(\"Guess the number between 1 and 100.\")\n",
    "    while guess != target_number:\n",
    "        guess = int(input(\"Enter your guess: \"))\n",
    "        attempts += 1\n",
    "        if guess < target_number:\n",
    "            print(\"Too low. Try again.\")\n",
    "        elif guess > target_number:\n",
    "            print(\"Too high. Try again.\")\n",
    "        else:\n",
    "            print(f\"Congratulations! You guessed the number {target_number} in {attempts} attempts.\")\n",
    "result()\n"
   ]
  },
  {
   "cell_type": "code",
   "execution_count": 156,
   "id": "b2856ec3-78e1-4f45-8860-cb230b9bcf82",
   "metadata": {},
   "outputs": [
    {
     "name": "stdin",
     "output_type": "stream",
     "text": [
      "Enter the first number:  4,8\n"
     ]
    },
    {
     "ename": "ValueError",
     "evalue": "invalid literal for int() with base 10: '4,8'",
     "output_type": "error",
     "traceback": [
      "\u001b[0;31m---------------------------------------------------------------------------\u001b[0m",
      "\u001b[0;31mValueError\u001b[0m                                Traceback (most recent call last)",
      "Cell \u001b[0;32mIn[156], line 29\u001b[0m\n\u001b[1;32m     27\u001b[0m \u001b[38;5;66;03m# Run the program\u001b[39;00m\n\u001b[1;32m     28\u001b[0m \u001b[38;5;28;01mif\u001b[39;00m \u001b[38;5;18m__name__\u001b[39m \u001b[38;5;241m==\u001b[39m \u001b[38;5;124m\"\u001b[39m\u001b[38;5;124m__main__\u001b[39m\u001b[38;5;124m\"\u001b[39m:\n\u001b[0;32m---> 29\u001b[0m     main()\n",
      "Cell \u001b[0;32mIn[156], line 18\u001b[0m, in \u001b[0;36mmain\u001b[0;34m()\u001b[0m\n\u001b[1;32m     16\u001b[0m \u001b[38;5;28;01mdef\u001b[39;00m \u001b[38;5;21mmain\u001b[39m():\n\u001b[1;32m     17\u001b[0m     \u001b[38;5;66;03m# Get user input for the two numbers\u001b[39;00m\n\u001b[0;32m---> 18\u001b[0m     num1 \u001b[38;5;241m=\u001b[39m \u001b[38;5;28mint\u001b[39m(\u001b[38;5;28minput\u001b[39m(\u001b[38;5;124m\"\u001b[39m\u001b[38;5;124mEnter the first number: \u001b[39m\u001b[38;5;124m\"\u001b[39m))\n\u001b[1;32m     19\u001b[0m     num2 \u001b[38;5;241m=\u001b[39m \u001b[38;5;28mint\u001b[39m(\u001b[38;5;28minput\u001b[39m(\u001b[38;5;124m\"\u001b[39m\u001b[38;5;124mEnter the second number: \u001b[39m\u001b[38;5;124m\"\u001b[39m))\n\u001b[1;32m     21\u001b[0m     \u001b[38;5;66;03m# Compute the GCD\u001b[39;00m\n",
      "\u001b[0;31mValueError\u001b[0m: invalid literal for int() with base 10: '4,8'"
     ]
    }
   ],
   "source": [
    "#20\n",
    "def gcd(a, b):\n",
    "    if a < b:\n",
    "        a, b = b, a\n",
    "        divisor = b\n",
    "    while divisor > 0:\n",
    "        if a % divisor == 0 and b % divisor == 0:\n",
    "            return divisor\n",
    "        divisor -= 1\n",
    "def result():\n",
    "    num1 = int(input(\"Enter the first number: \"))\n",
    "    num2 = int(input(\"Enter the second number: \"))\n",
    "    \n",
    "    find = gcd(num1, num2)\n",
    "    print(f\"The GCD of {num1} and {num2} is: {result}\")\n",
    "result()\n"
   ]
  },
  {
   "cell_type": "code",
   "execution_count": null,
   "id": "4def5fdb-fc1e-4920-9529-760bf6ec071f",
   "metadata": {},
   "outputs": [],
   "source": []
  }
 ],
 "metadata": {
  "kernelspec": {
   "display_name": "Python 3 (ipykernel)",
   "language": "python",
   "name": "python3"
  },
  "language_info": {
   "codemirror_mode": {
    "name": "ipython",
    "version": 3
   },
   "file_extension": ".py",
   "mimetype": "text/x-python",
   "name": "python",
   "nbconvert_exporter": "python",
   "pygments_lexer": "ipython3",
   "version": "3.12.4"
  }
 },
 "nbformat": 4,
 "nbformat_minor": 5
}
